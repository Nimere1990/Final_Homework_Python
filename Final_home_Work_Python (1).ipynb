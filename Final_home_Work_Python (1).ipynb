{
 "cells": [
  {
   "cell_type": "markdown",
   "id": "f7a879d5",
   "metadata": {},
   "source": [
    "# f(x) = (sin(x)/2 + cos(x)/2) ** 2 * sin(x)\n",
    "\n",
    "\n",
    "## Определить корни\n",
    "\n",
    "## Найти интервалы, на которых функция возрастает\n",
    "\n",
    "## Найти интервалы, на которых функция убывает\n",
    "\n",
    "## Построить график\n",
    "\n",
    "## Вычислить вершину\n",
    "\n",
    "## Определить промежутки, на котором f > 0\n",
    "\n",
    "## Определить промежутки, на котором f < 0"
   ]
  },
  {
   "cell_type": "code",
   "execution_count": 31,
   "id": "32861229",
   "metadata": {},
   "outputs": [],
   "source": [
    "from sympy import Symbol, simplify, plot, pi, diff, Interval\n",
    "from sympy.solvers import solve, solveset\n",
    "from sympy import S"
   ]
  },
  {
   "cell_type": "code",
   "execution_count": 32,
   "id": "f7b08a5a",
   "metadata": {
    "scrolled": false
   },
   "outputs": [
    {
     "name": "stdout",
     "output_type": "stream",
     "text": [
      "(sin(x)/2 + cos(x)/2)**2*sin(x)\n"
     ]
    }
   ],
   "source": [
    "x = Symbol(\"x\")\n",
    "f = (sin(x)/2 + cos(x)/2)**2 * sin(x)\n",
    "print(f)"
   ]
  },
  {
   "cell_type": "markdown",
   "id": "2f16046e",
   "metadata": {},
   "source": [
    "## Определить корни"
   ]
  },
  {
   "cell_type": "code",
   "execution_count": 33,
   "id": "6705e044",
   "metadata": {},
   "outputs": [
    {
     "data": {
      "text/plain": [
       "[0, -pi/4, 3*pi/4, pi]"
      ]
     },
     "execution_count": 33,
     "metadata": {},
     "output_type": "execute_result"
    }
   ],
   "source": [
    "roots = solve(f, x)\n",
    "roots"
   ]
  },
  {
   "cell_type": "markdown",
   "id": "56912c9e",
   "metadata": {},
   "source": [
    "## Найти интервалы, на которых функция возрастает\n",
    "## Найти интервалы, на которых функция убывает"
   ]
  },
  {
   "cell_type": "code",
   "execution_count": 61,
   "id": "926bacc1",
   "metadata": {
    "scrolled": true
   },
   "outputs": [
    {
     "name": "stdout",
     "output_type": "stream",
     "text": [
      "(-sin(x) + cos(x))*(sin(x)/2 + cos(x)/2)*sin(x) + (sin(x)/2 + cos(x)/2)**2*cos(x)\n",
      "1/4\n",
      "1/4\n",
      "1. Функция возрастает на промежутке -2*atan(-3/2 + sqrt(6)*sqrt(5 - sqrt(17))/2 + sqrt(17)/2) : -pi/4.\n",
      "2. Функция убывает на промежутке -pi/4 : 2*atan(-sqrt(6)*sqrt(sqrt(17) + 5)/2 + 3/2 + sqrt(17)/2).\n",
      "3. Функция возрастает на промежутке 2*atan(-sqrt(6)*sqrt(sqrt(17) + 5)/2 + 3/2 + sqrt(17)/2) : 2*atan(-sqrt(17)/2 + sqrt(6)*sqrt(5 - sqrt(17))/2 + 3/2).\n",
      "4. Функция убывает на промежутке 2*atan(-sqrt(17)/2 + sqrt(6)*sqrt(5 - sqrt(17))/2 + 3/2) : 3*pi/4.\n",
      "5. Функция возрастает на промежутке 3*pi/4 : 2*atan(3/2 + sqrt(17)/2 + sqrt(6)*sqrt(sqrt(17) + 5)/2).\n",
      "6. Функция убывает на промежутке 2*atan(3/2 + sqrt(17)/2 + sqrt(6)*sqrt(sqrt(17) + 5)/2) : -2*atan(-3/2 + sqrt(6)*sqrt(5 - sqrt(17))/2 + sqrt(17)/2) + 2*pi.\n"
     ]
    }
   ],
   "source": [
    "dif = diff(f,x)\n",
    "print(dif)\n",
    "l_dif = solve(dif, x)\n",
    "l_dif = sorted(l_dif)\n",
    "#Находим периоды:\n",
    "t = pi\n",
    "while True:\n",
    "    a_1 = dif.subs(x, 0)\n",
    "    a_2 = dif.subs(x, 0+t)\n",
    "    print(a_1)\n",
    "    if a_1 == a_2:\n",
    "        break\n",
    "    else:\n",
    "        t+=pi        \n",
    "point = l_dif[0] + t\n",
    "l_diff_1 = l_dif[:]\n",
    "l_diff_1.append(point)\n",
    "l_diff_1 = sorted(l_diff_1)\n",
    "for i in range(1, len(l_diff_1)):\n",
    "    a_1 = f.subs(x,l_diff_1[i-1] + 0.000001)\n",
    "    a_2 = f.subs(x,l_diff_1[i] - 0.000001)\n",
    "    if a_1 < a_2:\n",
    "        print(f'{i}. Функция возрастает на промежутке {l_diff_1[i-1]} : {l_diff_1[i]}.')\n",
    "    else:\n",
    "        print(f'{i}. Функция убывает на промежутке {l_diff_1[i-1]} : {l_diff_1[i]}.')"
   ]
  },
  {
   "cell_type": "markdown",
   "id": "db3ebe55",
   "metadata": {},
   "source": [
    "## Построить график"
   ]
  },
  {
   "cell_type": "code",
   "execution_count": 62,
   "id": "047ed49d",
   "metadata": {
    "scrolled": true
   },
   "outputs": [
    {
     "data": {
      "image/png": "[encoded data removed]",
      "text/plain": [
       "<Figure size 640x480 with 1 Axes>"
      ]
     },
     "metadata": {},
     "output_type": "display_data"
    },
    {
     "data": {
      "text/plain": [
       "<function sympy.plotting.plot.plot(*args, show=True, **kwargs)>"
      ]
     },
     "execution_count": 62,
     "metadata": {},
     "output_type": "execute_result"
    }
   ],
   "source": [
    "plot(f, (x , 0, 2*pi))\n",
    "plot"
   ]
  },
  {
   "cell_type": "markdown",
   "id": "fbbaa012",
   "metadata": {},
   "source": [
    "## Вычислить вершину"
   ]
  },
  {
   "cell_type": "code",
   "execution_count": 63,
   "id": "56b4d82f",
   "metadata": {
    "scrolled": true
   },
   "outputs": [
    {
     "name": "stdout",
     "output_type": "stream",
     "text": [
      " Вершина 1: x = -2.08, f = -0.40\n",
      " Вершина 2: x = -0.79, f = 0.0\n",
      " Вершина 3: x = -0.27, f = -0.03\n",
      " Вершина 4: x = 1.06, f = 0.40\n",
      " Вершина 5: x = 2.36, f = 0.0\n",
      " Вершина 6: x = 2.87, f = 0.03\n"
     ]
    }
   ],
   "source": [
    "diff_f_0 = extremum_light[1:-1]\n",
    "index = 1\n",
    "for i in diff_f_0:\n",
    "    print(f' Вершина {index}: x = {i}, f = {round(f.subs(x,i).evalf(),2)}')\n",
    "    index +=1"
   ]
  },
  {
   "cell_type": "markdown",
   "id": "0baf1529",
   "metadata": {},
   "source": [
    "## Определить промежутки, на котором f > 0"
   ]
  },
  {
   "cell_type": "code",
   "execution_count": 65,
   "id": "6f21d79c",
   "metadata": {},
   "outputs": [
    {
     "data": {
      "text/latex": [
       "$\\displaystyle \\left(0, \\frac{3 \\pi}{4}\\right) \\cup \\left(\\frac{3 \\pi}{4}, \\pi\\right)$"
      ],
      "text/plain": [
       "Union(Interval.open(0, 3*pi/4), Interval.open(3*pi/4, pi))"
      ]
     },
     "execution_count": 65,
     "metadata": {},
     "output_type": "execute_result"
    }
   ],
   "source": [
    "solveset(f>0, x, S.Reals)"
   ]
  },
  {
   "cell_type": "markdown",
   "id": "9bde790d",
   "metadata": {},
   "source": [
    "## Определить промежутки, на котором f < 0"
   ]
  },
  {
   "cell_type": "code",
   "execution_count": 40,
   "id": "acc77f4e",
   "metadata": {},
   "outputs": [
    {
     "data": {
      "text/latex": [
       "$\\displaystyle \\left(\\pi, \\frac{7 \\pi}{4}\\right) \\cup \\left(\\frac{7 \\pi}{4}, 2 \\pi\\right)$"
      ],
      "text/plain": [
       "Union(Interval.open(pi, 7*pi/4), Interval.open(7*pi/4, 2*pi))"
      ]
     },
     "execution_count": 40,
     "metadata": {},
     "output_type": "execute_result"
    }
   ],
   "source": [
    "solveset(f<0, x, S.Reals)"
   ]
  }
 ],
 "metadata": {
  "kernelspec": {
   "display_name": "Python 3 (ipykernel)",
   "language": "python",
   "name": "python3"
  },
  "language_info": {
   "codemirror_mode": {
    "name": "ipython",
    "version": 3
   },
   "file_extension": ".py",
   "mimetype": "text/x-python",
   "name": "python",
   "nbconvert_exporter": "python",
   "pygments_lexer": "ipython3",
   "version": "3.9.13"
  }
 },
 "nbformat": 4,
 "nbformat_minor": 5
}
